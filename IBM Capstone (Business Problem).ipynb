{
    "nbformat_minor": 1, 
    "cells": [
        {
            "source": "# **IBM Data Science Project** #", 
            "cell_type": "markdown", 
            "metadata": {
                "collapsed": true
            }
        }, 
        {
            "source": "## **Business Problem**", 
            "cell_type": "markdown", 
            "metadata": {}
        }, 
        {
            "source": "**This report will provide an in-depth analysis of an ideal location or locations to open an authentic Italian pizza restaurant in the growing city of Austin, TX. An analysis and recommendation will be made, provided by data courtesy of Foursquare. Any capitalist looking to invest in an Italian restaurant in the Austin, TX area may find this analysis quite useful.**\n\n**When opening a restaurant there are many different factors to consider (food/menu choice, alcohol availability, real estate, location, local competition or market saturation, economic indicators, and pricing to name a few). The city of Austin, TX is recognized as one of the fastest growing cities in the USA and constantly ranked as one of the best places to live in the country as well. Dubbed the next 'Silicon Valley, it provides superior cost of living, tax incentives, and a large artistic hub that attracts young talent and large businesses such as Google, Dell, and Apple. The restaurant business itself is highly competitive and cut-throat. This is why market research is necessary to mitigate risk before taking on such a significant financial risk, especially when its a well-known fact that approximately 90% of restaurants fail within the first year.**\n", 
            "cell_type": "markdown", 
            "metadata": {}
        }, 
        {
            "execution_count": null, 
            "cell_type": "code", 
            "metadata": {}, 
            "outputs": [], 
            "source": ""
        }
    ], 
    "metadata": {
        "kernelspec": {
            "display_name": "Python 3.5", 
            "name": "python3", 
            "language": "python"
        }, 
        "language_info": {
            "mimetype": "text/x-python", 
            "nbconvert_exporter": "python", 
            "version": "3.5.5", 
            "name": "python", 
            "file_extension": ".py", 
            "pygments_lexer": "ipython3", 
            "codemirror_mode": {
                "version": 3, 
                "name": "ipython"
            }
        }
    }, 
    "nbformat": 4
}