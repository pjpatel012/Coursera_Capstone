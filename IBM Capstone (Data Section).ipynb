{
    "nbformat_minor": 1, 
    "cells": [
        {
            "source": "## **Data Section**", 
            "cell_type": "markdown", 
            "metadata": {
                "collapsed": true
            }
        }, 
        {
            "source": "**Using data provided by Foursquare and other credible data providers, I will recommend the best tract or neighborhood to open up an authentic Italian restaurant based on the following factors:**\n\n-  **Location (local competition, nearby entertainment such as bars, proximity to city).** <br>\n-  **Economic indicators (average household income in each neighborhood).** <br>\n-  **Competition (local restaurants offering same product).** <br>\n-  **Target market, area population, and market size.** <br>\n\n**Data sources will include the web (web scraping), downloadable CSV\u2019s, and a publically available GeoJSON file of the cities boundaries. I will use http://zipatlas.com/us/tx/austin/zip-code-comparison/population-density.htm for population data. Downloadable .CSV will correlate neighborhoods to each zip code. Foursquare will be utilized to obtain and filter out venue categories by competition. A final DataFrame combining all the desired data will be constructed to compare all the different factors mentioned above. A conclusion will be made based on this data.**\n\n**This analysis will provide a recommendation based on the factors listed above. There are, however, plenty of other factors one should consider before opening a restaurant, for instance: initial capital, management team, marketing & advertisement, equipment costs, design, and professional fee\u2019s to name a few.**", 
            "cell_type": "markdown", 
            "metadata": {}
        }, 
        {
            "execution_count": null, 
            "cell_type": "code", 
            "metadata": {}, 
            "outputs": [], 
            "source": ""
        }
    ], 
    "metadata": {
        "kernelspec": {
            "display_name": "Python 3.5", 
            "name": "python3", 
            "language": "python"
        }, 
        "language_info": {
            "mimetype": "text/x-python", 
            "nbconvert_exporter": "python", 
            "version": "3.5.5", 
            "name": "python", 
            "file_extension": ".py", 
            "pygments_lexer": "ipython3", 
            "codemirror_mode": {
                "version": 3, 
                "name": "ipython"
            }
        }
    }, 
    "nbformat": 4
}